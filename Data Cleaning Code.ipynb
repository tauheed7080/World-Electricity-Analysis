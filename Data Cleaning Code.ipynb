{
 "cells": [
  {
   "cell_type": "code",
   "execution_count": 6,
   "id": "610b38a0-ad93-4605-9a1b-0dcfaa11a672",
   "metadata": {},
   "outputs": [
    {
     "name": "stdout",
     "output_type": "stream",
     "text": [
      "Data processing complete. Individual CSV files have been created.\n"
     ]
    }
   ],
   "source": [
    "import pandas as pd\n",
    "import json\n",
    "\n",
    "# Load Metadata\n",
    "metadata = pd.read_csv('Metadata.csv')\n",
    "\n",
    "# Remove rows where 'Country_Code' is null from metadata\n",
    "metadata = metadata.dropna(subset=['Country_Code'])\n",
    "\n",
    "# Define a Mapping for File Information with new column names and CSV names\n",
    "file_info = {\n",
    "    \"API_EG.ELC.ACCS.RU.ZS_DS2_en_csv_v2_4364070.json\": {\"new_column\": \"ACCSRU\", \"csv_name\": \"access_to_rural_population.csv\"},\n",
    "    \"API_EG.ELC.ACCS.ZS_DS2_en_csv_v2_4353549.json\": {\"new_column\": \"ACCSTO\", \"csv_name\": \"access_to_electricity_total.csv\"},\n",
    "    \"API_EG.ELC.ACCS.UR.ZS_DS2_en_csv_v2_4367536.json\": {\"new_column\": \"ACCSUR\", \"csv_name\": \"access_to_urban_population.csv\"},\n",
    "    \"API_EG.ELC.LOSS.ZS_DS2_en_csv_v2_4357259.json\": {\"new_column\": \"ELECLOSS\", \"csv_name\": \"electricity_loss.csv\"},\n",
    "    \"API_EG.ELC.NUCL.ZS_DS2_en_csv_v2_4357319.json\": {\"new_column\": \"ELECNUC\", \"csv_name\": \"electricity_from_nuclear.csv\"},\n",
    "    \"API_EG.ELC.PETR.ZS_DS2_en_csv_v2_4356435.json\": {\"new_column\": \"ELECOIL\", \"csv_name\": \"electricity_from_oil.csv\"},\n",
    "    \"API_EG.ELC.RNWX.KH_DS2_en_csv_v2_4356007.json\": {\"new_column\": \"ELECRENEW\", \"csv_name\": \"electricity_from_renewable.csv\"}\n",
    "}\n",
    "\n",
    "# Load, Clean, and Store Each DataFrame\n",
    "for file_name, info in file_info.items():\n",
    "    with open(file_name, 'r') as file:\n",
    "        data = json.load(file)\n",
    "    \n",
    "    # Convert JSON data to DataFrame\n",
    "    df = pd.DataFrame(data)\n",
    "    \n",
    "    # Remove the first row (index 0) and use the next row as column headers\n",
    "    df = df.drop(index=0)\n",
    "    df.columns = df.iloc[0]\n",
    "    df = df.drop(index=df.index[0])\n",
    "    df = df.reset_index(drop=True)\n",
    "    \n",
    "    # Melt the DataFrame to transform it from wide to long format\n",
    "    melted_df = df.melt(\n",
    "        id_vars=['Country Name', 'Country Code', 'Indicator Name', 'Indicator Code'],\n",
    "        var_name='Year',\n",
    "        value_name=info['new_column']\n",
    "    )\n",
    "    \n",
    "    # Convert 'Year' to numeric and remove rows where 'Year' is null or <= 1999\n",
    "    melted_df['Year'] = pd.to_numeric(melted_df['Year'], errors='coerce')\n",
    "    melted_df = melted_df.dropna(subset=['Year'])\n",
    "    melted_df = melted_df[melted_df['Year'] > 1999]\n",
    "    \n",
    "    # Remove null values from the value column\n",
    "    melted_df = melted_df.dropna(subset=[info['new_column']])\n",
    "    \n",
    "    # Merge Metadata to add Region and IncomeGroup\n",
    "    melted_df = pd.merge(\n",
    "        melted_df,\n",
    "        metadata,\n",
    "        left_on='Country Code',\n",
    "        right_on='Country_Code',\n",
    "        how='left'\n",
    "    )\n",
    "    \n",
    "    # Remove rows where 'Region' or 'IncomeGroup' is null\n",
    "    melted_df = melted_df.dropna(subset=['Region', 'IncomeGroup'])\n",
    "    \n",
    "    # Reorder columns to place the value column at the end\n",
    "    cols = [col for col in melted_df.columns if col != info['new_column']]\n",
    "    cols.append(info['new_column'])\n",
    "    melted_df = melted_df[cols]\n",
    "    \n",
    "    # Save the melted DataFrame to CSV\n",
    "    melted_df.to_csv(info['csv_name'], index=False)\n",
    "\n",
    "print(\"Data processing complete. Individual CSV files have been created.\")\n"
   ]
  }
 ],
 "metadata": {
  "kernelspec": {
   "display_name": "Python 3 (ipykernel)",
   "language": "python",
   "name": "python3"
  },
  "language_info": {
   "codemirror_mode": {
    "name": "ipython",
    "version": 3
   },
   "file_extension": ".py",
   "mimetype": "text/x-python",
   "name": "python",
   "nbconvert_exporter": "python",
   "pygments_lexer": "ipython3",
   "version": "3.11.7"
  }
 },
 "nbformat": 4,
 "nbformat_minor": 5
}
